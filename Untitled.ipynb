{
 "cells": [
  {
   "cell_type": "markdown",
   "metadata": {},
   "source": [
    "### Duration"
   ]
  },
  {
   "cell_type": "code",
   "execution_count": null,
   "metadata": {},
   "outputs": [],
   "source": [
    "s=\"2 42 8 23\"\n",
    "def minuteDifference(s):\n",
    "    s  = s.split()\n",
    "    sh = int(s[0])\n",
    "    sm = int(s[1])\n",
    "    eh = int(s[2])\n",
    "    em = int(s[3])\n",
    "    startminutes=(sh*60)+sm\n",
    "    endminutes = (eh*60)+em\n",
    "    return endminutes-startminutes\n",
    "\n",
    "def outputTimeFormat(minutes):\n",
    "    #convert minutes to HH MM\n",
    "    hh = minutes //60\n",
    "    mm = minutes%60\n",
    "    print(hh,mm)\n",
    "    return\n",
    "\n",
    "n=int(input())\n",
    "\n",
    "for i in range(0,n):\n",
    "    s= input()\n",
    "    minutes = minuteDifference(s)\n",
    "    outputTimeFormat(minutes)"
   ]
  },
  {
   "cell_type": "markdown",
   "metadata": {},
   "source": [
    "### Toggle String"
   ]
  },
  {
   "cell_type": "code",
   "execution_count": null,
   "metadata": {},
   "outputs": [],
   "source": [
    "def togglestring(s):\n",
    "    p=s.swapcase()\n",
    "    print(p)\n",
    "l=input()\n",
    "toggle(l)\n",
    "\n",
    "   \n",
    "togglestring(s)\n"
   ]
  },
  {
   "cell_type": "markdown",
   "metadata": {},
   "source": [
    "### Palindrome"
   ]
  },
  {
   "cell_type": "code",
   "execution_count": null,
   "metadata": {},
   "outputs": [],
   "source": [
    "def palindrome(s):\n",
    "    if s == s[::-1]:\n",
    "        print(\"YES\")\n",
    "    else:\n",
    "        print(\"NO\")\n",
    "        \n",
    "s=input()\n",
    "    \n",
    "palindrome(s)\n",
    "    "
   ]
  },
  {
   "cell_type": "markdown",
   "metadata": {},
   "source": [
    "### Play with numbers"
   ]
  },
  {
   "cell_type": "code",
   "execution_count": null,
   "metadata": {},
   "outputs": [],
   "source": [
    "# Read no of \n",
    "n=input().split()\n",
    "n[0],n[1] =int(n[0]),int(n[1])\n",
    "\n",
    "# Read array elements\n",
    "a= input().split()\n",
    "\n",
    "sum=[] # Initialize cumulative sum array\n",
    "\n",
    "#Cumulative Sum\n",
    "for i in range(0,n[0]):\n",
    "    if i ==0:\n",
    "        sum.append(int(a[i]))\n",
    "    else:\n",
    "        sum.append=int(sum[i-1]+int(a[i]))\n",
    "        \n",
    "del a\n",
    " \n",
    "# Read each query and calculate the average\n",
    "for k in range(0,n[1]):\n",
    "    inq =input().split()\n",
    "    i= int(inq[0])\n",
    "    j= int(inq[1])\n",
    "    if i>1:\n",
    "        print(sum[j-1]- sum[i-2]) // (j-i+1)\n",
    "    else:\n",
    "        print(sum[j-1] // (j-i+1))"
   ]
  },
  {
   "cell_type": "markdown",
   "metadata": {},
   "source": [
    "### Factorial"
   ]
  },
  {
   "cell_type": "code",
   "execution_count": null,
   "metadata": {},
   "outputs": [],
   "source": [
    "def factorial(n):\n",
    "    f=1\n",
    "    for i in range(1,n+1):\n",
    "        f=f*i\n",
    "    print(f)\n",
    "n=int(input())\n",
    "factorial(n)"
   ]
  },
  {
   "cell_type": "markdown",
   "metadata": {},
   "source": [
    "### Two Strings"
   ]
  },
  {
   "cell_type": "code",
   "execution_count": null,
   "metadata": {},
   "outputs": [],
   "source": [
    "n=int(input())\n",
    "for i in range(1,n+1):\n",
    "    s=input().split()\n",
    "    str1=s[0]\n",
    "    str2=s[1]\n",
    "    if sorted(str1)==sorted(str2):\n",
    "        print(\"YES\")\n",
    "    else:\n",
    "        print(\"NO\")\n"
   ]
  },
  {
   "cell_type": "markdown",
   "metadata": {},
   "source": [
    "### Count Divisors"
   ]
  },
  {
   "cell_type": "code",
   "execution_count": null,
   "metadata": {},
   "outputs": [],
   "source": [
    "def countDivisors(n) : \n",
    "    cnt = 0\n",
    "    for i in range(1, (int)(math.sqrt(n)) + 1) : \n",
    "        if (n % i == 0) : \n",
    "            if (n / i == i) : \n",
    "                cnt = cnt + 1\n",
    "            else : # Otherwise count both \n",
    "                cnt = cnt + 2\n",
    "                  \n",
    "    return cnt \n",
    "      \n",
    "countDivisors(n)      "
   ]
  },
  {
   "cell_type": "code",
   "execution_count": null,
   "metadata": {},
   "outputs": [],
   "source": []
  }
 ],
 "metadata": {
  "kernelspec": {
   "display_name": "Python 3",
   "language": "python",
   "name": "python3"
  },
  "language_info": {
   "codemirror_mode": {
    "name": "ipython",
    "version": 3
   },
   "file_extension": ".py",
   "mimetype": "text/x-python",
   "name": "python",
   "nbconvert_exporter": "python",
   "pygments_lexer": "ipython3",
   "version": "3.7.3"
  }
 },
 "nbformat": 4,
 "nbformat_minor": 2
}
